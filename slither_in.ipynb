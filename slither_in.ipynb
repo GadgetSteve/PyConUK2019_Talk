{
 "cells": [
  {
   "cell_type": "markdown",
   "metadata": {
    "slideshow": {
     "slide_type": "slide"
    }
   },
   "source": [
    "PyCon UK 2019\n",
    "\n",
    "# Helping Python Slither Under The Fence\n",
    "\n",
    "## Steve Barnes\n",
    "gadgetsteve@hotmail.com\n",
    "\n"
   ]
  },
  {
   "cell_type": "markdown",
   "metadata": {
    "slideshow": {
     "slide_type": "fragment"
    }
   },
   "source": [
    "Many years in the software industry, currently working at BHGE a GE Company. Involved in the introduction of python to several companies over the years."
   ]
  },
  {
   "cell_type": "markdown",
   "metadata": {
    "slideshow": {
     "slide_type": "slide"
    }
   },
   "source": [
    "It may come as a suprise to find that Python is not automatically welcomed everywhere in **industry**!\n",
    "\n",
    "After all **we all** know that it is:\n",
    "\n",
    " - free *both libre & gratis*,\n",
    " - Is readily available for most platforms,\n",
    " - Is flexible and fast to develop,\n",
    " - Works for a great many thing!\n",
    "\n",
    "Unfortunately ***not*** **everbody** knows the same! \n",
    "\n",
    "If you are trying to use python in one of the more traditional engineering company you are likely to hit some issues!"
   ]
  },
  {
   "cell_type": "markdown",
   "metadata": {
    "slideshow": {
     "slide_type": "slide"
    }
   },
   "source": [
    "# Some of the problems:\n"
   ]
  },
  {
   "cell_type": "markdown",
   "metadata": {
    "slideshow": {
     "slide_type": "fragment"
    }
   },
   "source": [
    "\n",
    "## You Can't *Buy* Python!\n",
    "\n",
    "*Since it is **free** there is nobody to buy it from - this confuses the purchasing department*\n",
    "\n",
    " - Who do we put on the AVL?\n",
    " - Who do we invoice?\n",
    " - Where do we get support from?"
   ]
  },
  {
   "cell_type": "markdown",
   "metadata": {
    "slideshow": {
     "slide_type": "fragment"
    }
   },
   "source": [
    "## But it isn't a proper langage\n",
    "*- just a scripting thingy!*"
   ]
  },
  {
   "cell_type": "markdown",
   "metadata": {
    "slideshow": {
     "slide_type": "subslide"
    }
   },
   "source": [
    "# Some of the problems:\n",
    "## *Real* Programmers \"Don't Use It\"\n",
    "\n",
    "*- they use one of*:\n",
    " - C/C++/C#\n",
    " - VB *really*\n",
    " - .Net\n",
    " \n",
    "Anyway it would be too slow!"
   ]
  },
  {
   "cell_type": "markdown",
   "metadata": {
    "slideshow": {
     "slide_type": "fragment"
    }
   },
   "source": [
    "## It isn't Professional/Supported/Stable/etc.\n",
    "\n",
    "It is that free, junk, made by people who just play at it!"
   ]
  },
  {
   "cell_type": "markdown",
   "metadata": {
    "slideshow": {
     "slide_type": "fragment"
    }
   },
   "source": [
    "## We can't deliver python software to our customers!\n",
    "\n",
    "Nobody Does!"
   ]
  },
  {
   "cell_type": "markdown",
   "metadata": {
    "slideshow": {
     "slide_type": "fragment"
    }
   },
   "source": [
    "## Since it is Open Source we will have to give our code away as well!\n",
    "\n",
    "Companies often don't know the differences between licence types!"
   ]
  },
  {
   "cell_type": "markdown",
   "metadata": {
    "slideshow": {
     "slide_type": "slide"
    }
   },
   "source": [
    "# What can we do about these problems?"
   ]
  },
  {
   "cell_type": "markdown",
   "metadata": {
    "slideshow": {
     "slide_type": "fragment"
    }
   },
   "source": [
    "First off **Keep Calm** *it is easy to get carried away and loosing your temper means you have **lost**!*\n",
    "\n",
    "*& of course know where your towel is!*"
   ]
  },
  {
   "cell_type": "markdown",
   "metadata": {
    "slideshow": {
     "slide_type": "subslide"
    }
   },
   "source": [
    "# What can we do about these problems?\n",
    "## You Can't Buy Python\n",
    "Since it is free there is nobody to buy it from - this confuses the purchasing department\n",
    "\n",
    " - Who do we put on the AVL? *You can try to get the PSF on to any AVL or even GitHub*\n",
    " - Who do we invoice? *You have to be patient here! Since it is free there is no need to invoice!*\n",
    " - Where do we get support from? *Online, Community & Consultancy*"
   ]
  },
  {
   "cell_type": "markdown",
   "metadata": {
    "slideshow": {
     "slide_type": "subslide"
    }
   },
   "source": [
    "# What can we do about these problems?\n",
    "## But it isn't a proper langage\n",
    "- just a scripting thingy!\n"
   ]
  },
  {
   "cell_type": "markdown",
   "metadata": {
    "slideshow": {
     "slide_type": "fragment"
    }
   },
   "source": [
    "**Stay calm**, explain that while it is a scripting language that is also:"
   ]
  },
  {
   "cell_type": "markdown",
   "metadata": {
    "slideshow": {
     "slide_type": "fragment"
    }
   },
   "source": [
    " - Much more Object Oriented than C++\n",
    " - Also able to do functional programming\n",
    " - Capable of being a \"full stack\" system"
   ]
  },
  {
   "cell_type": "markdown",
   "metadata": {
    "slideshow": {
     "slide_type": "subslide"
    }
   },
   "source": [
    "# What can we do about these problems?\n",
    "## Real Programmers \"Don't Use It\"\n",
    "- they use one of:\n",
    "\n",
    " - C/C++/C#\n",
    " - VB \n",
    " - .Net\n",
    " \n",
    " Point out that \"Real Programmers\" are using Python in companies like:\n",
    " \n",
    "  - Instagram, Spotify\n",
    "  - Amazon\n",
    "  - Inustrial Light & Magic, Disney\n",
    "  - CERN, NASA\n",
    "  - IBM, Apple, Microsoft, Cisco\n",
    "  \n",
    "  https://siftery.com/python is just one useful reference.\n"
   ]
  },
  {
   "cell_type": "markdown",
   "metadata": {
    "slideshow": {
     "slide_type": "fragment"
    }
   },
   "source": [
    "Anyway it would be too slow! - ***But*** *the rabid development cycle will let us try it out and see if it is* ***too*** *slow!*"
   ]
  },
  {
   "cell_type": "markdown",
   "metadata": {
    "slideshow": {
     "slide_type": "fragment"
    }
   },
   "source": [
    "# What can we do about these problems?\n",
    "## We can't deliver python software to our customers!\n",
    "\n",
    "Ignoring the fact that many of those companies are doing just that. Market your use of python as:\n",
    "\n",
    " - Proof Of Concept\n",
    " - Rapid Prototyping\n",
    " - Internal/Engineering Tools Only\n",
    " - Test Tooling\n",
    " "
   ]
  },
  {
   "cell_type": "markdown",
   "metadata": {
    "slideshow": {
     "slide_type": "fragment"
    }
   },
   "source": [
    "But do your best to write production ready code!\n",
    "\n",
    "*Once you have something that works really well it tends to expand in use & project managers are reluctant to spend the time & money to duplicate it with another tool chain!*"
   ]
  },
  {
   "cell_type": "markdown",
   "metadata": {
    "slideshow": {
     "slide_type": "subslide"
    }
   },
   "source": [
    "When it comes to that it is handy to have some facts and figures to hand! \n",
    "\n",
    "Take a look at what you used *you should have a requires.txt or equivelent!*\n",
    "\n",
    "Lets take a look at a \"Simple\" data exploration tool chain"
   ]
  },
  {
   "cell_type": "markdown",
   "metadata": {
    "slideshow": {
     "slide_type": "fragment"
    }
   },
   "source": [
    "- Python\n",
    "- pip\n",
    "- Pandas\n",
    "- matplotlib\n",
    "- requests & requests-html\n",
    "- scipy"
   ]
  },
  {
   "cell_type": "markdown",
   "metadata": {
    "slideshow": {
     "slide_type": "fragment"
    }
   },
   "source": [
    "And we will use `pip show` to find the dependencies & https://www.openhub.net/ to find out the effort involved! \n",
    "\n",
    "*These numbers were current as at 08/09/2019*"
   ]
  },
  {
   "cell_type": "markdown",
   "metadata": {
    "slideshow": {
     "slide_type": "subslide"
    }
   },
   "source": [
    "\n",
    "| What? | Lines | People | Years (COCOMO model) | License | Downloads Last Month|\n",
    "|-------|-------|--------|----------------------|---------|---------------------|\n",
    "| **Python** | 2,211,731 | 1085 | 645 | PSF | Lots! |\n",
    "| pip | 86,980 | 508 | 22 | MIT | 63,994,629 |\n",
    "| **Pandas** | 218,975 | 1,815 | 88 | BSD 3 | 15,086,579 |\n",
    "|  *numpy* | 315,770 | 1,013 | 85 | BSD | 24,938,566 |\n",
    "|  *python-dateutil* | 8,102 | 1 | 2 | BSD/Apache |  53,540,579 |\n",
    "|  *six* | 2,176 | 51 | 1 | MIT | 64,380,351 |\n",
    "|  *pytz* | 14,309 | 12 | 4 | MIT | 33,869,608 |\n",
    "| **matplotlib** | 217,196 | 1,044 | 57 | BSD 3 | 6,220,183 |\n",
    "| *cycler* | 874 | 12 | 1 | BSD 3 | 4,501,402 |\n",
    "| *pyparsing* | 16,008 | 19 | 4 | MIT | 13,219,454 |\n",
    "| *kiwisolver* | 5,738 | 13 | 2 | BSD-3 | 6,517,708 |\n",
    "| **requests** | 77,201 | 635 | 2 | Apache 2.0 | 55,898,737 |\n",
    "| *idna* | - | - | - | BSD-like | 47,161,143 |\n",
    "| *urllib3* | 17,323 | 239 | 4 | MIT | 80,434,525\n",
    "| *chardet* | 103,699 | 32 | 26 | LGPL 2.1 | 45,051,221\n",
    "| *certifi* | 70 | 17 | 1 | ISC | 48,906,439\n",
    "| **requests-html** | 1,595 | 59 | 1 | MIT | 60,448\n",
    "| *bs4* | 1,966 | 2 | - | - | 1,295,007\n",
    "| *fake-useragent* | 1,232 | 8 | 1 | Apache | 197,788\n",
    "| *w3lib* | 2,079 | 31 | 1 | BSD-3 | 773,476\n",
    "| *pyppeteer* | - | - | - | - | 139,168\n",
    "|  *tqdm* | 4,157 | 71 | 1 | MIT | 4,347,618\n",
    "|  *pyee* | - | - |- | MIT | 155,836\n",
    "|  *appdirs* | - | - | - | MIT | 2,847,009\n",
    "|  *websockets* | - | - | - | BSD | 2,660,237\n",
    "| *parse* | - | - | - | BSD | 647,490\n",
    "| *pyquery* | 2,732 | 42 | 1 | Apache | 153,828\n",
    "| **scipy** | 414,473 | 971 | 112 | BSD | 9,693,907\n",
    "\n"
   ]
  },
  {
   "attachments": {},
   "cell_type": "markdown",
   "metadata": {
    "slideshow": {
     "slide_type": "subslide"
    }
   },
   "source": [
    "\n",
    "Totalling these up gives an indication of the resources & testing that we are getting for free:\n",
    "\n",
    "| What? | Lines | People | Years (COCOMO model) | License | Downloads Last Month|\n",
    "|-------|-------|--------|----------------------|---------|---------------------|\n",
    "| SUM | 3,724,386 | 7,680 | 1,061 | - |\t586,692,936\n",
    "| MAX |2,211,731 | 1,815 | 645\t| - | 80,434,525\n",
    "\n",
    "So in this example nearly 4 Million lines of code by between 2 & 4 thousand developers investing a thousand years of effort which is being tested *to some degree or another* at least 80 million times **in the last month**."
   ]
  },
  {
   "cell_type": "markdown",
   "metadata": {
    "slideshow": {
     "slide_type": "subslide"
    }
   },
   "source": [
    "# What can we do about these problems?\n",
    "## It isn't Professional/Supported/Stable/etc.\n"
   ]
  },
  {
   "cell_type": "markdown",
   "metadata": {
    "slideshow": {
     "slide_type": "fragment"
    }
   },
   "source": [
    "- Professional *Point out that many of those thousands of delveopers work full time at the major organisations that we mentioned above*"
   ]
  },
  {
   "cell_type": "markdown",
   "metadata": {
    "slideshow": {
     "slide_type": "fragment"
    }
   },
   "source": [
    " - Supported\n",
    "  - *Asking for help on the news groups/StackOverflow/etc. usually results in a very quick responce - sometimes from the original developer(s)* rather than a premimum rate phone call to someone working from a script!\n",
    "  - *There are consultants who can & will investigate for a fee - often including \n",
    "  - *Raising a ticket will often result in a fix* often not the case with COTS softwarethe original developer(s)* \n",
    "  - *It is open source - if you find a problem that nobody else is interested in fixing you can get the source code and fix it*"
   ]
  },
  {
   "cell_type": "markdown",
   "metadata": {
    "slideshow": {
     "slide_type": "fragment"
    }
   },
   "source": [
    " - Stable\n",
    " \n",
    "Python 2 was first released in 2000 and is being sunsetted at the start of 2020. \n",
    "\n",
    "By comparison Windows XP was released in 2001 and the final release was in 2008."
   ]
  },
  {
   "cell_type": "markdown",
   "metadata": {
    "slideshow": {
     "slide_type": "subslide"
    }
   },
   "source": [
    "# What can we do about these problems?\n",
    "## We can't deliver python software to our customers!\n",
    "\n",
    "There are a number of options for delivery mechanisms:\n",
    " - Source code delivery *(plus python installation instructions)*\n",
    " - Zipped code *(plus python installation instructions)*\n",
    " - PyInstaller, CX-Freeze, Py2Exe, Py2App, *etc.*\n",
    " - Software as a Service"
   ]
  },
  {
   "cell_type": "markdown",
   "metadata": {
    "slideshow": {
     "slide_type": "subslide"
    }
   },
   "source": [
    "# What can we do about these problems?\n",
    "## Since it is Open Source we will have to give our code away as well!\n",
    "\n",
    "Familiarise yourself wit the various licence types and the implications.\n",
    "\n",
    "Apache, MIT, PSF, etc. all let you deliver commercial products derived from code under those licences.\n",
    "\n",
    "*But watch out for \"well meaning\" individuals who try to change the copyright!*"
   ]
  },
  {
   "cell_type": "markdown",
   "metadata": {
    "slideshow": {
     "slide_type": "slide"
    }
   },
   "source": [
    "# Final Words\n",
    "\n",
    "The miliary have **P7**:\n",
    "*\"Proper Prior Planning Prevents Piss Poor Performance\"*\n"
   ]
  },
  {
   "cell_type": "markdown",
   "metadata": {
    "slideshow": {
     "slide_type": "fragment"
    }
   },
   "source": [
    "\n",
    "We can use **P6**:\n",
    "Patience, Professionalism, Prepration, Prototype, Pragmatism & Python!"
   ]
  }
 ],
 "metadata": {
  "celltoolbar": "Slideshow",
  "kernelspec": {
   "display_name": "Python 3",
   "language": "python",
   "name": "python3"
  },
  "language_info": {
   "codemirror_mode": {
    "name": "ipython",
    "version": 3
   },
   "file_extension": ".py",
   "mimetype": "text/x-python",
   "name": "python",
   "nbconvert_exporter": "python",
   "pygments_lexer": "ipython3",
   "version": "3.6.5"
  }
 },
 "nbformat": 4,
 "nbformat_minor": 2
}
